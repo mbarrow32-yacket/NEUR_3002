{
 "cells": [
  {
   "attachments": {},
   "cell_type": "markdown",
   "id": "e8eaacff-ea1a-4c6d-a33e-38737f1f2823",
   "metadata": {},
   "source": [
    "# In-Class Participation Group Activity #1\n",
    "\n",
    "<h3>Group Members: Maia Barrow, Martin Gerstle, Layla Penland, and Kyra Miller</h3>\n",
    "\n",
    "* Temporal Code: spike timing in relation to a stimulus\n",
    "* Rate Code: the frequency of action potentials, which can be measured as spikes/second\n",
    "* Latency Code: shows a delay between the onset of a stimulus and the first action potential\n",
    "* Synchronous Code: shows the spikes that occur simultaneously between different neurons\n",
    "* Tuning Curve: demonstrating how 1 neuron fires preferentially to a certain stimulus feature (like the orientation of a bar)\n",
    "* Population Code: when multiple nodes (where data enters or exists) can encode information to each quality, producing more efficient perception (similar to combinatorial code)\n",
    "\n",
    "![Types of Code](Coding_Image.png)\n",
    "\n",
    "Similarities | Differences\n",
    "------------ | -------------\n",
    "Synchronous, latency and temporal codes all show some relationship to time. | Synchronous codes show the concurrent timing of activity, while latency codes show the activational delay in time itself. Temporal codes show the timing of spikes.\n",
    "Temporal code and tuning curves **can** show activity toward a particular stimulus. | Tuning curves **specifically** demontrate the preferential activity of one neuron while temporal code can show the timing of activity to **any** stimulus from multiple neurons (and temporal code can circumstantially reveal that one stimulus is most preferred). \n",
    "All coding, except for tuning curves, use multiple neurons for data modeling | These show the relationship of neuronal behavior and timing in different ways (see above). "
   ]
  }
 ],
 "metadata": {
  "kernelspec": {
   "display_name": "Python 3 (ipykernel)",
   "language": "python",
   "name": "python3"
  },
  "language_info": {
   "codemirror_mode": {
    "name": "ipython",
    "version": 3
   },
   "file_extension": ".py",
   "mimetype": "text/x-python",
   "name": "python",
   "nbconvert_exporter": "python",
   "pygments_lexer": "ipython3",
   "version": "3.12.1"
  }
 },
 "nbformat": 4,
 "nbformat_minor": 5
}
